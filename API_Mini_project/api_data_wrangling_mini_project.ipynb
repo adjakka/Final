{
 "cells": [
  {
   "cell_type": "markdown",
   "metadata": {},
   "source": [
    "This exercise will require you to pull some data from the Qunadl API. Qaundl is currently the most widely used aggregator of financial market data."
   ]
  },
  {
   "cell_type": "markdown",
   "metadata": {},
   "source": [
    "As a first step, you will need to register a free account on the http://www.quandl.com website."
   ]
  },
  {
   "cell_type": "markdown",
   "metadata": {},
   "source": [
    "After you register, you will be provided with a unique API key, that you should store:"
   ]
  },
  {
   "cell_type": "code",
   "execution_count": 2,
   "metadata": {},
   "outputs": [],
   "source": [
    "# Store the API key as a string - according to PEP8, constants are always named in all upper case\n",
    "API_KEY = '******'"
   ]
  },
  {
   "cell_type": "markdown",
   "metadata": {},
   "source": [
    "Qaundl has a large number of data sources, but, unfortunately, most of them require a Premium subscription. Still, there are also a good number of free datasets."
   ]
  },
  {
   "cell_type": "markdown",
   "metadata": {},
   "source": [
    "For this mini project, we will focus on equities data from the Frankfurt Stock Exhange (FSE), which is available for free. We'll try and analyze the stock prices of a company called Carl Zeiss Meditec, which manufactures tools for eye examinations, as well as medical lasers for laser eye surgery: https://www.zeiss.com/meditec/int/home.html. The company is listed under the stock ticker AFX_X."
   ]
  },
  {
   "cell_type": "markdown",
   "metadata": {},
   "source": [
    "You can find the detailed Quandl API instructions here: https://docs.quandl.com/docs/time-series"
   ]
  },
  {
   "cell_type": "markdown",
   "metadata": {},
   "source": [
    "While there is a dedicated Python package for connecting to the Quandl API, we would prefer that you use the *requests* package, which can be easily downloaded using *pip* or *conda*. You can find the documentation for the package here: http://docs.python-requests.org/en/master/ "
   ]
  },
  {
   "cell_type": "markdown",
   "metadata": {},
   "source": [
    "Finally, apart from the *requests* package, you are encouraged to not use any third party Python packages, such as *pandas*, and instead focus on what's available in the Python Standard Library (the *collections* module might come in handy: https://pymotw.com/3/collections/).\n",
    "Also, since you won't have access to DataFrames, you are encouraged to us Python's native data structures - preferably dictionaries, though some questions can also be answered using lists.\n",
    "You can read more on these data structures here: https://docs.python.org/3/tutorial/datastructures.html"
   ]
  },
  {
   "cell_type": "markdown",
   "metadata": {},
   "source": [
    "Keep in mind that the JSON responses you will be getting from the API map almost one-to-one to Python's dictionaries. Unfortunately, they can be very nested, so make sure you read up on indexing dictionaries in the documentation provided above."
   ]
  },
  {
   "cell_type": "code",
   "execution_count": 3,
   "metadata": {},
   "outputs": [],
   "source": [
    "# First, import the relevant modules\n",
    "import requests\n",
    "import json\n",
    "import numpy as np"
   ]
  },
  {
   "cell_type": "code",
   "execution_count": 4,
   "metadata": {},
   "outputs": [],
   "source": [
    "# Now, call the Quandl API and pull out a small sample of the data (only one day) to get a glimpse\n",
    "# into the JSON structure that will be returned\n",
    "data = requests.get('https://www.quandl.com/api/v3/datasets/FSE/AFX_X.json?api_key=****&start_date=2017-01-01&end_date=2017-12-01')"
   ]
  },
  {
   "cell_type": "code",
   "execution_count": null,
   "metadata": {},
   "outputs": [],
   "source": [
    "#The above step fetches the data for the year 2017."
   ]
  },
  {
   "cell_type": "code",
   "execution_count": 5,
   "metadata": {},
   "outputs": [
    {
     "data": {
      "text/plain": [
       "[u'Date',\n",
       " u'Open',\n",
       " u'High',\n",
       " u'Low',\n",
       " u'Close',\n",
       " u'Change',\n",
       " u'Traded Volume',\n",
       " u'Turnover',\n",
       " u'Last Price of the Day',\n",
       " u'Daily Traded Units',\n",
       " u'Daily Turnover']"
      ]
     },
     "execution_count": 5,
     "metadata": {},
     "output_type": "execute_result"
    }
   ],
   "source": [
    "#All the columns of the data of interest\n",
    "data_cols = data.json()['dataset']['column_names']\n",
    "data_cols"
   ]
  },
  {
   "cell_type": "code",
   "execution_count": 6,
   "metadata": {},
   "outputs": [],
   "source": [
    "#The actual data\n",
    "data2 = data.json()['dataset']['data']"
   ]
  },
  {
   "cell_type": "code",
   "execution_count": 148,
   "metadata": {},
   "outputs": [],
   "source": [
    "#import json\n",
    "#class ComplexEncoder(json.JSONEncoder):\n",
    " #   def default(self, obj):\n",
    "        #if isinstance(obj, complex):\n",
    "           # return [obj.real, obj.imag]\n",
    "# Let the base class default method raise the TypeError\n",
    "        #return json.JSONEncoder.default(self, obj)"
   ]
  },
  {
   "cell_type": "code",
   "execution_count": null,
   "metadata": {
    "collapsed": true
   },
   "outputs": [],
   "source": [
    "# Inspect the JSON structure of the object you created, and take note of how nested it is,\n",
    "# as well as the overall structure\n"
   ]
  },
  {
   "cell_type": "code",
   "execution_count": 7,
   "metadata": {},
   "outputs": [
    {
     "data": {
      "text/plain": [
       "[[u'2017-12-01',\n",
       "  49.52,\n",
       "  50.49,\n",
       "  49.17,\n",
       "  49.86,\n",
       "  None,\n",
       "  101733.0,\n",
       "  5065932.0,\n",
       "  None,\n",
       "  None,\n",
       "  None],\n",
       " [u'2017-11-30',\n",
       "  48.64,\n",
       "  49.84,\n",
       "  48.28,\n",
       "  49.7,\n",
       "  None,\n",
       "  123019.0,\n",
       "  6085171.0,\n",
       "  None,\n",
       "  None,\n",
       "  None],\n",
       " [u'2017-11-29',\n",
       "  49.64,\n",
       "  49.64,\n",
       "  48.7,\n",
       "  48.75,\n",
       "  None,\n",
       "  67342.0,\n",
       "  3292223.0,\n",
       "  None,\n",
       "  None,\n",
       "  None],\n",
       " [u'2017-11-28',\n",
       "  49.09,\n",
       "  49.89,\n",
       "  49.03,\n",
       "  49.25,\n",
       "  None,\n",
       "  42669.0,\n",
       "  2107358.0,\n",
       "  None,\n",
       "  None,\n",
       "  None],\n",
       " [u'2017-11-27',\n",
       "  49.13,\n",
       "  49.73,\n",
       "  48.96,\n",
       "  49.2,\n",
       "  None,\n",
       "  102180.0,\n",
       "  5055762.0,\n",
       "  None,\n",
       "  None,\n",
       "  None]]"
      ]
     },
     "execution_count": 7,
     "metadata": {},
     "output_type": "execute_result"
    }
   ],
   "source": [
    "data2[0:5]"
   ]
  },
  {
   "cell_type": "code",
   "execution_count": null,
   "metadata": {},
   "outputs": [],
   "source": [
    "#As we can see above, the data is a list of lists with each sublist consisting of data for a particular day in 2017"
   ]
  },
  {
   "cell_type": "markdown",
   "metadata": {},
   "source": [
    "These are your tasks for this mini project:\n",
    "\n",
    "1. Collect data from the Franfurt Stock Exchange, for the ticker AFX_X, for the whole year 2017 (keep in mind that the date format is YYYY-MM-DD).\n",
    "2. Convert the returned JSON object into a Python dictionary.\n",
    "3. Calculate what the highest and lowest opening prices were for the stock in this period.\n",
    "4. What was the largest change in any one day (based on High and Low price)?\n",
    "5. What was the largest change between any two days (based on Closing Price)?\n",
    "6. What was the average daily trading volume during this year?\n",
    "7. (Optional) What was the median trading volume during this year. (Note: you may need to implement your own function for calculating the median.)"
   ]
  },
  {
   "cell_type": "code",
   "execution_count": 18,
   "metadata": {},
   "outputs": [],
   "source": [
    "data = data.json()"
   ]
  },
  {
   "cell_type": "code",
   "execution_count": 19,
   "metadata": {},
   "outputs": [
    {
     "data": {
      "text/plain": [
       "dict"
      ]
     },
     "execution_count": 19,
     "metadata": {},
     "output_type": "execute_result"
    }
   ],
   "source": [
    "type(data)"
   ]
  },
  {
   "cell_type": "code",
   "execution_count": 21,
   "metadata": {},
   "outputs": [],
   "source": [
    "data2 = data['dataset']['data']"
   ]
  },
  {
   "cell_type": "code",
   "execution_count": null,
   "metadata": {},
   "outputs": [],
   "source": [
    "#The json file has been converted to a Python dictionary. This answers the second question."
   ]
  },
  {
   "cell_type": "code",
   "execution_count": null,
   "metadata": {},
   "outputs": [],
   "source": [
    "#The third part of the question is to find the highest and lowest opening prices"
   ]
  },
  {
   "cell_type": "code",
   "execution_count": 22,
   "metadata": {},
   "outputs": [],
   "source": [
    "all_open_prices = [] #Created an empty list to which all the open prices will be appended\n",
    "for i in data2:\n",
    "    all_open_prices.append(i[1]) #Every second element of the sublist will be selected and appended to all_open_prices list."
   ]
  },
  {
   "cell_type": "code",
   "execution_count": 23,
   "metadata": {},
   "outputs": [
    {
     "data": {
      "text/plain": [
       "[49.52, 48.64, 49.64, 49.09, 49.13]"
      ]
     },
     "execution_count": 23,
     "metadata": {},
     "output_type": "execute_result"
    }
   ],
   "source": [
    "all_open_prices[0:5] #Printed some of the open prices"
   ]
  },
  {
   "cell_type": "code",
   "execution_count": 24,
   "metadata": {},
   "outputs": [
    {
     "data": {
      "text/plain": [
       "49.64"
      ]
     },
     "execution_count": 24,
     "metadata": {},
     "output_type": "execute_result"
    }
   ],
   "source": [
    "max_open_price = max(all_open_prices) #Selects the max opening price\n",
    "max_open_price #The max open price is printed below"
   ]
  },
  {
   "cell_type": "code",
   "execution_count": 25,
   "metadata": {},
   "outputs": [],
   "source": [
    "df = [x for x in all_open_prices if x is not None] #We are not considering the None values for our calculation"
   ]
  },
  {
   "cell_type": "code",
   "execution_count": 26,
   "metadata": {},
   "outputs": [
    {
     "data": {
      "text/plain": [
       "34.0"
      ]
     },
     "execution_count": 26,
     "metadata": {},
     "output_type": "execute_result"
    }
   ],
   "source": [
    "min_open_price = min(df)\n",
    "min_open_price #The min open price is printed below"
   ]
  },
  {
   "cell_type": "code",
   "execution_count": null,
   "metadata": {},
   "outputs": [],
   "source": [
    "#Moving on the 4th part of the question."
   ]
  },
  {
   "cell_type": "code",
   "execution_count": 27,
   "metadata": {},
   "outputs": [],
   "source": [
    "all_high_prices = [] #Initialized an empty list that will be appended with all the high prices\n",
    "all_low_prices = [] # Initialized an emty list that will be appended with all the low prices"
   ]
  },
  {
   "cell_type": "code",
   "execution_count": 28,
   "metadata": {},
   "outputs": [],
   "source": [
    "#All high prices are appended to all_high_prices list\n",
    "for i in data2:\n",
    "    all_high_prices.append(i[2])"
   ]
  },
  {
   "cell_type": "code",
   "execution_count": 29,
   "metadata": {},
   "outputs": [],
   "source": [
    "#All low prices are appended to all_low_prices list\n",
    "for i in data2:\n",
    "    all_low_prices.append(i[3])"
   ]
  },
  {
   "cell_type": "code",
   "execution_count": null,
   "metadata": {},
   "outputs": [],
   "source": [
    "#We will now be forming a list of tuples to calculate the differences between the high and low prices for all the days"
   ]
  },
  {
   "cell_type": "code",
   "execution_count": 30,
   "metadata": {},
   "outputs": [],
   "source": [
    "z = zip(all_high_prices, all_low_prices)"
   ]
  },
  {
   "cell_type": "code",
   "execution_count": 31,
   "metadata": {},
   "outputs": [
    {
     "data": {
      "text/plain": [
       "[(50.49, 49.17), (49.84, 48.28), (49.64, 48.7), (49.89, 49.03), (49.73, 48.96)]"
      ]
     },
     "execution_count": 31,
     "metadata": {},
     "output_type": "execute_result"
    }
   ],
   "source": [
    "z[0:5] #As we can observe below, we formed a list of tuples"
   ]
  },
  {
   "cell_type": "code",
   "execution_count": 32,
   "metadata": {},
   "outputs": [],
   "source": [
    "high_low_diff = [] #Initialized an empty list that will be appended with the difference of the high and low prices\n",
    "for m,n in z:\n",
    "    high_low_diff.append(abs(m-n))"
   ]
  },
  {
   "cell_type": "code",
   "execution_count": 33,
   "metadata": {},
   "outputs": [
    {
     "data": {
      "text/plain": [
       "[1.3200000000000003,\n",
       " 1.5600000000000023,\n",
       " 0.9399999999999977,\n",
       " 0.8599999999999994,\n",
       " 0.769999999999996]"
      ]
     },
     "execution_count": 33,
     "metadata": {},
     "output_type": "execute_result"
    }
   ],
   "source": [
    "high_low_diff[0:5] #As we can see below, we have a list again"
   ]
  },
  {
   "cell_type": "code",
   "execution_count": 34,
   "metadata": {},
   "outputs": [
    {
     "data": {
      "text/plain": [
       "2.81"
      ]
     },
     "execution_count": 34,
     "metadata": {},
     "output_type": "execute_result"
    }
   ],
   "source": [
    "largest_day_change = max(high_low_diff)\n",
    "round(largest_day_change,2)  #Prints out the largest day change"
   ]
  },
  {
   "cell_type": "code",
   "execution_count": 35,
   "metadata": {},
   "outputs": [],
   "source": [
    "all_closing_prices = [] #Initialized an empty list that will be appended with all the closing prices\n",
    "for i in data2:\n",
    "    all_closing_prices.append(i[4])"
   ]
  },
  {
   "cell_type": "code",
   "execution_count": null,
   "metadata": {},
   "outputs": [],
   "source": [
    "#Moving on thr 5th part of the question"
   ]
  },
  {
   "cell_type": "code",
   "execution_count": 36,
   "metadata": {},
   "outputs": [],
   "source": [
    "all_closing_prices_1 = all_closing_prices #Created an identical list all_closing_prices_1\n",
    "diff_any_two_days = []"
   ]
  },
  {
   "cell_type": "code",
   "execution_count": 37,
   "metadata": {},
   "outputs": [],
   "source": [
    "for i in all_closing_prices: #Looping across every element in closing_prices\n",
    "    for j in all_closing_prices_1: #Looping across every element in closing_prices_1\n",
    "        if all_closing_prices.index(i) != all_closing_prices_1.index(j): #We would get a 0 if matched for the same day\n",
    "            diff_any_two_days.append(abs(i-j)) #Took absolute value to onsider the max difference\n",
    "        "
   ]
  },
  {
   "cell_type": "code",
   "execution_count": 38,
   "metadata": {},
   "outputs": [
    {
     "data": {
      "text/plain": [
       "15.8"
      ]
     },
     "execution_count": 38,
     "metadata": {},
     "output_type": "execute_result"
    }
   ],
   "source": [
    "max_diff = max(diff_any_two_days)\n",
    "round(max_diff,2) #The max difference between any two days printed below."
   ]
  },
  {
   "cell_type": "code",
   "execution_count": null,
   "metadata": {},
   "outputs": [],
   "source": [
    "#Moving on thr 6th part of the question."
   ]
  },
  {
   "cell_type": "code",
   "execution_count": 39,
   "metadata": {},
   "outputs": [],
   "source": [
    "all_traded_volume = [] #Initialized an mpty list which will be appended with all the trading volumes throughout the year"
   ]
  },
  {
   "cell_type": "code",
   "execution_count": 40,
   "metadata": {},
   "outputs": [],
   "source": [
    "for i in data2:\n",
    "    all_traded_volume.append(i[6]) #Appended all trading volumes throughout 2017"
   ]
  },
  {
   "cell_type": "code",
   "execution_count": 41,
   "metadata": {},
   "outputs": [
    {
     "data": {
      "text/plain": [
       "88758.93"
      ]
     },
     "execution_count": 41,
     "metadata": {},
     "output_type": "execute_result"
    }
   ],
   "source": [
    "avg_trading_volume = sum(all_traded_volume) / len(all_traded_volume) #Calculating the average tradng volume\n",
    "round(avg_trading_volume,2) #Printed average trading volume"
   ]
  },
  {
   "cell_type": "code",
   "execution_count": null,
   "metadata": {},
   "outputs": [],
   "source": [
    "#Moving on the 7th (and last) part of the question"
   ]
  },
  {
   "cell_type": "code",
   "execution_count": 134,
   "metadata": {},
   "outputs": [],
   "source": [
    "#The median is the middle value in a sorted list of elements. If the list has an even number of elements, \n",
    "#the mean of the middle two numbers is computed as the mean"
   ]
  },
  {
   "cell_type": "code",
   "execution_count": 42,
   "metadata": {},
   "outputs": [],
   "source": [
    "#Defing a function to caculate the median\n",
    "def median_calculation(any_list):\n",
    "    any_list = sorted(any_list) #Sorting values of the list in ascending order\n",
    "    list_len = len(any_list) #Computing the length of the list\n",
    "    if list_len %2 != 0: #Checking to see if the computed length is an odd number\n",
    "        index_num = (list_len + 1)/2 # Computing the index to be used if odd length\n",
    "        median_calc = any_list[index_num] #The middle number in the list is computed as the median\n",
    "        return median_calc\n",
    "    else:\n",
    "        index_num1 = list_len/2 #This condition is satisfied if we have an even length computed\n",
    "        index_num2 = index_num1 + 1 \n",
    "        median_cal = (any_list[index_num1] + any_list[index_num2])/2 #Computing the mean of middle two numbers\n",
    "        return median_cal"
   ]
  },
  {
   "cell_type": "code",
   "execution_count": 43,
   "metadata": {},
   "outputs": [
    {
     "data": {
      "text/plain": [
       "74975.0"
      ]
     },
     "execution_count": 43,
     "metadata": {},
     "output_type": "execute_result"
    }
   ],
   "source": [
    "#We now applythe function to the sorted traded volumes list\n",
    "median_calculation(all_traded_volume)"
   ]
  }
 ],
 "metadata": {
  "kernelspec": {
   "display_name": "py_36_env",
   "language": "python",
   "name": "py_36_env"
  },
  "language_info": {
   "codemirror_mode": {
    "name": "ipython",
    "version": 2
   },
   "file_extension": ".py",
   "mimetype": "text/x-python",
   "name": "python",
   "nbconvert_exporter": "python",
   "pygments_lexer": "ipython2",
   "version": "2.7.15"
  }
 },
 "nbformat": 4,
 "nbformat_minor": 2
}
